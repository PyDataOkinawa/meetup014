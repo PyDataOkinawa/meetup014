{
 "cells": [
  {
   "cell_type": "markdown",
   "metadata": {
    "slideshow": {
     "slide_type": "skip"
    }
   },
   "source": [
    "# プレゼンテーションの始め方 ver.01\n",
    "\n",
    "[RISE](https://github.com/damianavila/RISE)をインストールして使う"
   ]
  },
  {
   "cell_type": "markdown",
   "metadata": {
    "slideshow": {
     "slide_type": "skip"
    }
   },
   "source": [
    "# プレゼンテーションの始め方 ver.02\n",
    "\n",
    "ターミナルに以下のコマンドをコピペ。\n",
    "\n",
    "```\n",
    "ipython nbconvert PyData.Okinawa\\ Meetup\\ 005\\ Introduction.ipynb --to slides --post serve --reveal-prefix \"http://cdn.jsdelivr.net/reveal.js/2.6.2\"\n",
    "```\n",
    "\n",
    "```.html``` のすぐ後に以下のコードをコピペ。\n",
    "\n",
    "```\n",
    "?theme=sky?transition=convex\n",
    "```"
   ]
  },
  {
   "cell_type": "markdown",
   "metadata": {
    "collapsed": true,
    "slideshow": {
     "slide_type": "slide"
    }
   },
   "source": [
    "# ようこそPyData.Okinawaへ\n",
    "\n",
    "\n",
    "### Meetup 14 - kaggle\n",
    "\n",
    "- Twitter: @PyDataOkinawa (#PyDataOkinawa)\n",
    "- Connpass: http://pydataokinawa.connpass.com/ \n",
    "- HP: http://pydata.okinawa\n",
    "- Slack: "
   ]
  },
  {
   "cell_type": "markdown",
   "metadata": {
    "slideshow": {
     "slide_type": "slide"
    }
   },
   "source": [
    "# 本日の予定\n",
    "\n",
    "| 時間 | 内容 |\tスピーカー |\n",
    "|:------|:------|:-------------|\n",
    "| 8:55\t| 開場 | |\n",
    "| 9:00-9:20 | PyData.Okinawaについて |\tオーガナイザー |\n",
    "| 9:20-9:30 | 自己紹介 | 全員 |\n",
    "| 9:30-10:15 | kaggleで遊ぼう（前半） | 全員 |\n",
    "| 10:15-10:30 | 休憩 |  |\n",
    "| 10:30-11:50 | kaggleで遊ぼう（後半） | 全員 |\n",
    "| 11:50-12:00 | 次回勉強会について | 全員 |"
   ]
  },
  {
   "cell_type": "markdown",
   "metadata": {
    "slideshow": {
     "slide_type": "slide"
    }
   },
   "source": [
    "# PyData.Okinawaとは？\n",
    "\n",
    "\n",
    "<div align=\"center\">\n",
    "<img src=surfing1.jpg width=700>\n",
    "Creative Commons BY 2.0:<br/>\n",
    "https://www.happytellus.com/gallery.php?img_id=2668\n",
    "</div>"
   ]
  },
  {
   "cell_type": "markdown",
   "metadata": {
    "slideshow": {
     "slide_type": "slide"
    }
   },
   "source": [
    "# PyData.Okinawaとは？\n",
    "\n",
    "<div align=\"center\">\n",
    "<img src=surfing2.jpg width=700>\n",
    "Creative Commons BY 2.0<br/>http://free-photo.net/archive/entry5175.html\n",
    "<div>"
   ]
  },
  {
   "cell_type": "markdown",
   "metadata": {
    "collapsed": true,
    "slideshow": {
     "slide_type": "slide"
    }
   },
   "source": [
    "# PyData.Okinawaとは?"
   ]
  },
  {
   "cell_type": "markdown",
   "metadata": {
    "slideshow": {
     "slide_type": "fragment"
    }
   },
   "source": [
    "- PyData.Okinawa は Python + Data に興味のある方が交流できる沖縄を拠点にしたコミュニティです。"
   ]
  },
  {
   "cell_type": "markdown",
   "metadata": {
    "slideshow": {
     "slide_type": "fragment"
    }
   },
   "source": [
    "- **データから新しい価値を生み出したいという想い**があれば、どのようなバックグラウンドを持った方でも自由に参加できるオープンなコミュニティです。"
   ]
  },
  {
   "cell_type": "markdown",
   "metadata": {
    "slideshow": {
     "slide_type": "fragment"
    }
   },
   "source": [
    "- 沖縄で定期的に開催される勉強会では**Pythonをメインな言語として使いますが**、機械学習やデータアナリティクスに興味を持つ方であれば**どのような言語を使うプログラマの方でも参加可能**です。"
   ]
  },
  {
   "cell_type": "markdown",
   "metadata": {
    "collapsed": true,
    "slideshow": {
     "slide_type": "slide"
    }
   },
   "source": [
    "# PyData.Okinawaとは?"
   ]
  },
  {
   "cell_type": "markdown",
   "metadata": {
    "slideshow": {
     "slide_type": "fragment"
    }
   },
   "source": [
    "- またハードルは高いかもしれませんが、これからPythonプログラミングを覚えたい初心者の方も大歓迎です。"
   ]
  },
  {
   "cell_type": "markdown",
   "metadata": {
    "slideshow": {
     "slide_type": "fragment"
    }
   },
   "source": [
    "- **沖縄県外のコミュニティとも積極的に交流**しながら、<u>次の世代をインスパイアするような</u>**新しい価値**を生み出していくことが**PyData.Okinawaの成功の姿**です。"
   ]
  },
  {
   "cell_type": "markdown",
   "metadata": {
    "slideshow": {
     "slide_type": "fragment"
    }
   },
   "source": [
    "<div align=\"center\"><b>\"データから始まる新しい価値を創造するコミュニティ\"</b></div>"
   ]
  },
  {
   "cell_type": "markdown",
   "metadata": {
    "slideshow": {
     "slide_type": "slide"
    }
   },
   "source": [
    "# PyData.Tokyoとは？\n",
    "\n",
    "**Python + Data を通じて Pythonistaと データ分析者が交流するコミュニティ**\n",
    "\n",
    "2014年09月に行われたPyConJP 2014での出逢いをきっかけに、PyData.Tokyoは生まれました。\n",
    "\n",
    "PyConJP 2014では、データ分析や機械学習関連の発表に非常に大きな関心が寄せられました。一方で、データの分析・可視化をするために必要な知識や技術について、深く議論できるコミュニティやカンファレンスがあればいいのに、という声も耳にしました。そんな想いに応えるべく誕生したのが、PyData.Tokyoです。\n",
    "\n",
    "PyData.Tokyoは、多様な分野で活躍しているPythonistaとデータ分析者がバランスよく交流できる、Python + Dataをテーマにしたコミュニティです。\n",
    "\n",
    "- [PyData.Tokyo Official HP](https://pydata.tokyo/)\n",
    "- [PyData.Tokyo@connpass](http://pydatatokyo.connpass.com/)"
   ]
  },
  {
   "cell_type": "markdown",
   "metadata": {
    "slideshow": {
     "slide_type": "slide"
    }
   },
   "source": [
    "# なぜPyData.Okinawaなのか?\n",
    "\n",
    "- データはこれからどんどん増えていく（IoT、医療、ソーシャルネットワーク、オープンデータ等）（[link](http://jp.techcrunch.com/2015/05/29/20150528free-dollars-and-fifty-free-cents/)）\n",
    "- そのデータから価値を引き出せると面白い（次の世代をインスパイアする新しい価値の創造）\n",
    "- 人とのつながりによる新しい情報や価値観との出会い\n",
    "- PyData.Okinawaは実験的な場\n",
    "- 沖縄県外のコミュニティとの協力体制（PyData.Tokyoなど）\n",
    "- 楽しくなくなったらやめる"
   ]
  },
  {
   "cell_type": "markdown",
   "metadata": {
    "slideshow": {
     "slide_type": "slide"
    }
   },
   "source": [
    "# PyData.Okinawa News"
   ]
  },
  {
   "cell_type": "markdown",
   "metadata": {
    "slideshow": {
     "slide_type": "slide"
    }
   },
   "source": [
    "## Kaggle - Kobe Bryant Shot Selection が終了\n",
    "\n",
    "- [Kobe Bryant Shot Selection](https://www.kaggle.com/c/kobe-bryant-shot-selection)\n",
    "- [3万699本のシュートを視覚化。コービー・ブライアントの20年をインフォグラフィックで振り返る](http://www.gizmodo.jp/2016/04/everyshot_kobebryant.html)\n",
    "- [Every shot Kobe Bryant ever took. All 30,699 of them](http://graphics.latimes.com/kobe-every-shot-ever/)\n",
    "- [Kobe Bryant's Top 10 Plays of his Career](https://www.youtube.com/watch?v=jhyANGHDDH8)"
   ]
  },
  {
   "cell_type": "markdown",
   "metadata": {
    "slideshow": {
     "slide_type": "slide"
    }
   },
   "source": [
    "## ところでデータってどこにあるの？\n",
    "\n",
    "- [Awesome Public Datasets](https://github.com/caesar0301/awesome-public-datasets) ←ココ\n",
    "- [Awesome Python](https://github.com/vinta/awesome-python) ← Pythonのことならココ\n",
    "- [sindresorhus's awesome list](https://github.com/sindresorhus/awesome) ← その他のAwesomeリストはココ"
   ]
  },
  {
   "cell_type": "markdown",
   "metadata": {
    "slideshow": {
     "slide_type": "slide"
    }
   },
   "source": [
    "## PythonBeginners沖縄（仮）\n",
    "\n",
    "- Python初心者向けのワイワイもくもく会\n",
    "- 7/2（土） 13:00-17:00 （第1回）\n",
    "- IT津梁パーク5F（レキサスさんの会議室）\n",
    "- http://connpass.com/event/33925/\n",
    "- 詳細は鈴木さんに v(^^ )"
   ]
  },
  {
   "cell_type": "markdown",
   "metadata": {
    "slideshow": {
     "slide_type": "slide"
    }
   },
   "source": [
    "## 島根で機械学習Bootcamp開催\n",
    "\n",
    "- [ITOC機械学習Bootcampを開催します](http://www.s-itoc.jp/activity/research/ml/57)\n",
    "- 2016/07/08 - 2016/07/10"
   ]
  },
  {
   "cell_type": "markdown",
   "metadata": {
    "slideshow": {
     "slide_type": "slide"
    }
   },
   "source": [
    "# PyData.Okinawaの決まりごと\n",
    "\n",
    "## 日時 \n",
    "\n",
    "* 定期開催（毎月第３土曜日 9:00-12:00）\n",
    "\n",
    "## 参加費用\n",
    "\n",
    "- 1500円\n",
    "- 会場費 & 県外のコミュニティから人を呼んだりするため\n",
    "- 飲み代ではない\n",
    "- オーガナイザーも出す\n",
    "\n",
    "## その他\n",
    "\n",
    "- 楽しく、クリエイティブに"
   ]
  },
  {
   "cell_type": "markdown",
   "metadata": {
    "slideshow": {
     "slide_type": "slide"
    }
   },
   "source": [
    "# 自己紹介（ひとり1分ぐらい）\n",
    "\n",
    "\n",
    "* 名前\n",
    "* プロフィール（仕事・肩書きなど）"
   ]
  },
  {
   "cell_type": "markdown",
   "metadata": {
    "slideshow": {
     "slide_type": "slide"
    }
   },
   "source": [
    "# PyData.Okinawaのこれまで (1/3)\n",
    "- [PyData.Okinawa Meetup #1 - PyData事始め](http://pydataokinawa.connpass.com/event/15567/)\n",
    "- [PyData.Okinawa Meetup #2 - データ可視化](http://pydataokinawa.connpass.com/event/16388/)\n",
    "- [PyData.Okinawa Meetup #3 - scikit-learn入門](http://pydataokinawa.connpass.com/event/17652/)\n",
    "- [PyData.Okinawa Meetup #4 - モデル選択](http://pydataokinawa.connpass.com/event/18396/)\n",
    "- [PyData.Okinawa Meetup #5 - 復習ミニハッカソン](http://pydataokinawa.connpass.com/event/20225/)\n"
   ]
  },
  {
   "cell_type": "markdown",
   "metadata": {
    "slideshow": {
     "slide_type": "slide"
    }
   },
   "source": [
    "# PyData.Okinawaのこれまで (2/3)\n",
    "- [PyData.Okinawa Meetup #6 - 「データサイエンティスト養成読本：機械学習入門編」読書会 1](http://pydataokinawa.connpass.com/event/20441/) \n",
    "  - 第１部　特集１ 機械学習を使いたい人のための入門講座 （よぎさん）\n",
    "  - 第１部　特集２　機械学習の基礎知識 （ひがさん）\n",
    "- [PyData.Okinawa Meetup #7 - 「データサイエンティスト養成読本：機械学習入門編」読書会 2](http://pydataokinawa.connpass.com/event/21648/)\n",
    "    - 第１部　特集２　機械学習の基礎知識 （古川さん）\n",
    "    - 第２部　特集２ Pythonによる機械学習入門 （岩村さん） \n"
   ]
  },
  {
   "cell_type": "markdown",
   "metadata": {
    "slideshow": {
     "slide_type": "subslide"
    }
   },
   "source": [
    "- [PyData.Okinawa Meetup #8 - 「データサイエンティスト養成読本：機械学習入門編」読書会 3](http://pydataokinawa.connpass.com/event/23825/)　\n",
    "    - 第２部　特集２ Pythonによる機械学習入門 （岩村さん）\n",
    "    - 第１部　特集３ビジネスに導入する機械学習 （玉城さん）\n",
    "- [PyData.Okinawa Meetup #9 - 「データサイエンティスト養成読本：機械学習入門編」読書会 4](http://pydataokinawa.connpass.com/event/24769/)\n",
    "    - 第１部　特集４ 深層学習最前線 （大塚さん）"
   ]
  },
  {
   "cell_type": "markdown",
   "metadata": {
    "slideshow": {
     "slide_type": "subslide"
    }
   },
   "source": [
    "- [PyData.Okinawa Meetup #10 - 「データサイエンティスト養成読本：機械学習入門編」読書会 5](http://pydataokinawa.connpass.com/event/27214/)　\n",
    "    - 第２部　特集４ Pythonで画像認識にチャレンジ （ちんさん）\n",
    "- [PyData.Okinawa Meetup #11 - 「データサイエンティスト養成読本：機械学習入門編」読書会 6](http://pydataokinawa.connpass.com/event/27705/)　\n",
    "    - 第２部　特集３ 推薦システム入門 （玉城さん）"
   ]
  },
  {
   "cell_type": "markdown",
   "metadata": {
    "slideshow": {
     "slide_type": "slide"
    }
   },
   "source": [
    "# PyData.Okinawaのこれまで (3/3)\n",
    "- [PyData.Okinawa Meetup #12 - 寄り合い](http://pydataokinawa.connpass.com/event/30259/)\n",
    "- [PyData.Okinawa Meetup #13 - kaggle](http://pydataokinawa.connpass.com/event/31066/)"
   ]
  }
 ],
 "metadata": {
  "celltoolbar": "Slideshow",
  "kernelspec": {
   "display_name": "Python 2",
   "language": "python",
   "name": "python2"
  },
  "language_info": {
   "codemirror_mode": {
    "name": "ipython",
    "version": 2
   },
   "file_extension": ".py",
   "mimetype": "text/x-python",
   "name": "python",
   "nbconvert_exporter": "python",
   "pygments_lexer": "ipython2",
   "version": "2.7.11"
  }
 },
 "nbformat": 4,
 "nbformat_minor": 0
}
